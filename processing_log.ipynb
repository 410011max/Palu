{
 "cells": [
  {
   "cell_type": "code",
   "execution_count": 8,
   "metadata": {},
   "outputs": [
    {
     "name": "stdout",
     "output_type": "stream",
     "text": [
      "Data has been exported to logs/palu_llama_k1024_v3072_gs32.csv\n"
     ]
    }
   ],
   "source": [
    "import re\n",
    "import csv\n",
    "\n",
    "log_file = 'logs/palu_llama_k1024_v3072_gs32.log'\n",
    "csv_file = log_file[:-4] + '.csv'\n",
    "\n",
    "# Regular expression to extract prompt_len and latency\n",
    "pattern = re.compile(r'prompt_len:\\s(\\d+),\\slatency:\\s([\\d.]+)\\smilliseconds')\n",
    "\n",
    "data = []\n",
    "\n",
    "# Read the log file and extract the data\n",
    "with open(log_file, 'r') as file:\n",
    "    for line in file:\n",
    "        match = pattern.search(line)\n",
    "        if match:\n",
    "            prompt_len = int(match.group(1))\n",
    "            latency = float(match.group(2))\n",
    "            data.append((prompt_len, latency))\n",
    "\n",
    "# Write the data to a CSV file\n",
    "with open(csv_file, 'w', newline='') as file:\n",
    "    writer = csv.writer(file)\n",
    "    writer.writerow(['prompt_len', 'latency'])\n",
    "    writer.writerows(data)\n",
    "\n",
    "print(f'Data has been exported to {csv_file}')\n"
   ]
  },
  {
   "cell_type": "code",
   "execution_count": 18,
   "metadata": {},
   "outputs": [
    {
     "name": "stdout",
     "output_type": "stream",
     "text": [
      "Data has been exported to logs/palu_r2048_k1024_v3072.csv\n"
     ]
    }
   ],
   "source": [
    "import re\n",
    "import csv\n",
    "\n",
    "# log_file = 'logs/palu_r1024.log'\n",
    "# csv_file = 'logs/palu_r1024.csv'\n",
    "\n",
    "# log_file = 'logs/palu_r2048.log'\n",
    "# csv_file = 'logs/palu_r2048.csv'\n",
    "\n",
    "# log_file = 'logs/palu_r2048_no_rope.log'\n",
    "# csv_file = 'logs/palu_r2048_no_rope.csv'\n",
    "\n",
    "log_file = 'logs/palu_r2048_k1024_v3072.log'\n",
    "csv_file = 'logs/palu_r2048_k1024_v3072.csv'\n",
    "\n",
    "# Regular expression to extract prompt_len, latency, and group_size\n",
    "pattern_prompt_latency = re.compile(r'prompt_len:\\s(\\d+),\\slatency:\\s([\\d.]+)\\smilliseconds')\n",
    "pattern_group_size = re.compile(r'group_size:\\s(\\d+)')\n",
    "\n",
    "data = []\n",
    "current_group_size = None\n",
    "\n",
    "# Read the log file and extract the data\n",
    "with open(log_file, 'r') as file:\n",
    "    for line in file:\n",
    "        # Extract group size if available\n",
    "        group_size_match = pattern_group_size.search(line)\n",
    "        if group_size_match:\n",
    "            current_group_size = int(group_size_match.group(1))\n",
    "        \n",
    "        # Extract prompt_len and latency\n",
    "        prompt_latency_match = pattern_prompt_latency.search(line)\n",
    "        if prompt_latency_match:\n",
    "            prompt_len = int(prompt_latency_match.group(1))\n",
    "            latency = float(prompt_latency_match.group(2))\n",
    "            if current_group_size is not None:\n",
    "                data.append((prompt_len, latency, current_group_size))\n",
    "\n",
    "# Write the data to a CSV file\n",
    "with open(csv_file, 'w', newline='') as file:\n",
    "    writer = csv.writer(file)\n",
    "    writer.writerow(['prompt_len', 'latency', 'group_size'])\n",
    "    writer.writerows(data)\n",
    "\n",
    "print(f'Data has been exported to {csv_file}')"
   ]
  }
 ],
 "metadata": {
  "kernelspec": {
   "display_name": "palu",
   "language": "python",
   "name": "python3"
  },
  "language_info": {
   "codemirror_mode": {
    "name": "ipython",
    "version": 3
   },
   "file_extension": ".py",
   "mimetype": "text/x-python",
   "name": "python",
   "nbconvert_exporter": "python",
   "pygments_lexer": "ipython3",
   "version": "3.11.7"
  }
 },
 "nbformat": 4,
 "nbformat_minor": 2
}
